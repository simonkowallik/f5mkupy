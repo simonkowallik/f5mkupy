{
 "cells": [
  {
   "cell_type": "markdown",
   "metadata": {},
   "source": [
    "# Example usage of f5mkupy"
   ]
  },
  {
   "cell_type": "markdown",
   "metadata": {},
   "source": [
    "##### 1) Get the encryption key on the BIG-IP\n",
    "\n",
    "```bash\n",
    "> f5mku -K\n",
    "BHDLd0bbao1VlwpTk1sioQ==\n",
    "```"
   ]
  },
  {
   "cell_type": "markdown",
   "metadata": {},
   "source": [
    "##### 2) Create a http profile to encrypt a specific cookie\n",
    "\n",
    "```sh\n",
    "> tmsh create ltm profile http http_encrypted_cookie \\\n",
    " encrypt-cookies add { CookieName } \\\n",
    " encrypt-cookie-secret secret_encryption_key\n",
    "\n",
    "> tmsh list ltm profile http http_encrypted_cookie\n",
    "ltm profile http http_encrypted_cookie {\n",
    "    app-service none\n",
    "    encrypt-cookie-secret $M$bn$btwo4IWf6ZpYap4QWG8DsJqnB2xW9HLv1VOAmMeIa0U=\n",
    "    encrypt-cookies { CookieName }\n",
    "}\n",
    "```"
   ]
  },
  {
   "cell_type": "code",
   "execution_count": 5,
   "metadata": {},
   "outputs": [
    {
     "name": "stdout",
     "output_type": "stream",
     "text": [
      "secret_encryption_key\n"
     ]
    }
   ],
   "source": [
    "# time for some python code\n",
    "\n",
    "# save f5mku key to a variable, we will re-use this along all examples\n",
    "F5MKU_KEY='BHDLd0bbao1VlwpTk1sioQ=='\n",
    "\n",
    "# import decryption function from f5mkupy\n",
    "from f5mkupy import decrypt\n",
    "\n",
    "# decrypt the encrypt-cookie-secret $M$bn$btwo4IWf6ZpYap4QWG8DsJqnB2xW9HLv1VOAmMeIa0U=\n",
    "print(\n",
    "    decrypt(\n",
    "        ciphertext='$M$bn$btwo4IWf6ZpYap4QWG8DsJqnB2xW9HLv1VOAmMeIa0U=',\n",
    "        f5mku=F5MKU_KEY\n",
    "    )\n",
    ")"
   ]
  },
  {
   "cell_type": "markdown",
   "metadata": {},
   "source": [
    "\n",
    "\n",
    "lets do the same on the command like:\n",
    "\n",
    "```sh\n",
    "> f5mkupy decrypt \\\n",
    "    -k 'BHDLd0bbao1VlwpTk1sioQ==' \\\n",
    "    '$M$bn$btwo4IWf6ZpYap4QWG8DsJqnB2xW9HLv1VOAmMeIa0U='\n",
    "secret_encryption_key\n",
    "```\n",
    "\n",
    "Same result as with the python code."
   ]
  },
  {
   "cell_type": "markdown",
   "metadata": {},
   "source": [
    "##### 3) Time to encrypt a new secret key"
   ]
  },
  {
   "cell_type": "code",
   "execution_count": 7,
   "metadata": {},
   "outputs": [
    {
     "name": "stdout",
     "output_type": "stream",
     "text": [
      "$M$Nh$2JzppOwb8rT4bLOgk11AvQ==\n"
     ]
    }
   ],
   "source": [
    "# import encryption function from f5mkupy\n",
    "from f5mkupy import encrypt\n",
    "\n",
    "print(\n",
    "    encrypt(\n",
    "        plaintext='newSecretKey',\n",
    "        f5mku=F5MKU_KEY\n",
    "    )\n",
    ")"
   ]
  },
  {
   "cell_type": "markdown",
   "metadata": {},
   "source": [
    "\n",
    "\n",
    "We can perform the same encryption on the command line:\n",
    "\n",
    "```sh\n",
    "> f5mkupy encrypt \\\n",
    " -k 'BHDLd0bbao1VlwpTk1sioQ==' \\\n",
    " 'newSecretKey'\n",
    "$M$uT$YjZdBZVDt47J9BF12ogypg==\n",
    "```\n",
    "\n",
    "Lets use the newly created key to update the BIG-IP configuration:\n",
    "\n",
    "\n",
    "```sh\n",
    "\n",
    "> tmsh modify ltm profile http http_encrypted_cookie \\\n",
    " encrypt-cookie-secret '$M$Nh$2JzppOwb8rT4bLOgk11AvQ=='\n",
    "\n",
    "\n",
    "> tmsh list ltm profile http http_encrypted_cookie\n",
    "ltm profile http http_encrypted_cookie {\n",
    "    app-service none\n",
    "    encrypt-cookie-secret $M$yy$zrZ+FDp3bHnUAQy6/et06Q==\n",
    "    encrypt-cookies { CookieName }\n",
    "}\n",
    "```\n",
    "\n",
    "You probably noticed that the key shown in the `tmsh list` command does not match the one we set in the previous `tmsh modify` command.\n",
    "The BIG-IP decrypts the newly set key and then re-encrypts it using a different salt, which leads to this behavior.\n",
    "\n",
    "Lets validate that the new key is actually matching the plaintext key we used (`newSecretKey`) earlier by decrypting it again:\n",
    "\n",
    "```sh\n",
    "> f5mkupy decrypt \\\n",
    "    -k 'BHDLd0bbao1VlwpTk1sioQ==' \\\n",
    "    '$M$yy$zrZ+FDp3bHnUAQy6/et06Q=='\n",
    "newSecretKey\n",
    "```\n",
    "\n",
    "Match!\n"
   ]
  },
  {
   "cell_type": "markdown",
   "metadata": {},
   "source": [
    "\n",
    "##### 3) Why do the ciphertexts not match when the plaintext is the same? (Salt!)\n",
    "\n",
    "\n",
    "As briefly mentioned, the ciphertexts change when it got added to the BIG-IP configuaration because it was decrypted and then re-encrypted with a new salt.\n",
    "\n",
    "\n",
    "We can extract the salt from the ciphertext:\n",
    "\n",
    "\n",
    "```sh\n",
    "f5mkupy extract_salt '$M$Nh$2JzppOwb8rT4bLOgk11AvQ=='\n",
    "Nh\n",
    "\n",
    "f5mkupy extract_salt '$M$yy$zrZ+FDp3bHnUAQy6/et06Q=='\n",
    "yy\n",
    "```\n",
    "\n",
    "\n",
    "Re-using the salt from the existing ciphertext we can generate the exact _same_ ciphertext using the exact same plaintext.\n",
    "\n",
    "\n",
    "This allows us to check if the plaintext is the one we expect it to be, which is great to implement idempotency! :)\n",
    "\n",
    "\n",
    "```sh\n",
    "f5mkupy encrypt -k 'BHDLd0bbao1VlwpTk1sioQ==' -s 'Nh' 'newSecretKey'\n",
    "$M$Nh$2JzppOwb8rT4bLOgk11AvQ==\n",
    "\n",
    "f5mkupy encrypt -k 'BHDLd0bbao1VlwpTk1sioQ==' -s 'yy' 'newSecretKey'\n",
    "$M$yy$zrZ+FDp3bHnUAQy6/et06Q==\n",
    "```\n",
    "\n",
    "\n",
    "This gets a little easier with python:"
   ]
  },
  {
   "cell_type": "code",
   "execution_count": 26,
   "metadata": {},
   "outputs": [
    {
     "name": "stdout",
     "output_type": "stream",
     "text": [
      "\n",
      "When encrypting the same plaintext with the same f5mku key and salt:'Nh' the ciphertexts match\n",
      "\n",
      "When encrypting the same plaintext with the same f5mku key and salt:'yy' the ciphertexts match\n"
     ]
    }
   ],
   "source": [
    "# import extract_salt function from f5mkupy\n",
    "from f5mkupy import extract_salt\n",
    "\n",
    "# the ciphertexts from the above example:\n",
    "ciphertexts=('$M$Nh$2JzppOwb8rT4bLOgk11AvQ==', '$M$yy$zrZ+FDp3bHnUAQy6/et06Q==')\n",
    "\n",
    "# loop through the ciphertexts, extract salt and encrypt the same plaintext\n",
    "for orig_ciphertext in ciphertexts:\n",
    "    salt = extract_salt(orig_ciphertext)\n",
    "    new_ciphertext = encrypt(plaintext='newSecretKey', f5mku=F5MKU_KEY, salt=salt)\n",
    "    print(\n",
    "        f\"\\nWhen encrypting the same plaintext with the same f5mku key and salt:'{salt}' the ciphertexts \" +\n",
    "       ( orig_ciphertext==new_ciphertext and \"match\" or \"do not match\" )\n",
    "    )"
   ]
  },
  {
   "cell_type": "markdown",
   "metadata": {},
   "source": [
    "The end."
   ]
  }
 ],
 "metadata": {
  "kernelspec": {
   "display_name": "Python 3.10.5 ('.venv': poetry)",
   "language": "python",
   "name": "python3"
  },
  "language_info": {
   "codemirror_mode": {
    "name": "ipython",
    "version": 3
   },
   "file_extension": ".py",
   "mimetype": "text/x-python",
   "name": "python",
   "nbconvert_exporter": "python",
   "pygments_lexer": "ipython3",
   "version": "3.10.5"
  },
  "orig_nbformat": 4,
  "vscode": {
   "interpreter": {
    "hash": "6fe11ff2fa997cad08b7e38e64cf1647ee49a1b2164030ee0315778924f10e46"
   }
  }
 },
 "nbformat": 4,
 "nbformat_minor": 2
}
